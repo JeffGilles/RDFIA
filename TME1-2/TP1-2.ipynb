{
 "cells": [
  {
   "cell_type": "code",
   "execution_count": null,
   "metadata": {},
   "outputs": [],
   "source": [
    "import matplotlib\n",
    "import matplotlib.pyplot as plt\n",
    "%matplotlib inline  \n",
    "\n",
    "import numpy as np\n",
    "from tools import *"
   ]
  },
  {
   "cell_type": "markdown",
   "metadata": {},
   "source": [
    "# Partie 1 : SIFT"
   ]
  },
  {
   "cell_type": "code",
   "execution_count": null,
   "metadata": {},
   "outputs": [],
   "source": [
    "# example images\n",
    "I = read_grayscale('data/tools.tiff')\n",
    "I2 = read_grayscale('data/Scene/CALsuburb/image_0205.jpg')\n",
    "plt.imshow(I)"
   ]
  },
  {
   "cell_type": "code",
   "execution_count": null,
   "metadata": {},
   "outputs": [],
   "source": [
    "def compute_grad(I):\n",
    "    h_x = 1/2*np.array([[-1], [0], [1]])\n",
    "    h_y = 1/2*np.array([[1], [2], [1]])\n",
    "    Ix = conv_separable(I, h_y, h_x)\n",
    "    Iy = conv_separable(I, h_x, h_y)\n",
    "    return Ix, Iy\n",
    "\n",
    "# example d'affichage du résultat\n",
    "Ix, Iy = compute_grad(I)\n",
    "plt.imshow(Ix)\n",
    "plt.colorbar()\n",
    "plt.show()\n",
    "plt.imshow(Iy)\n",
    "plt.colorbar()\n",
    "plt.show()"
   ]
  },
  {
   "cell_type": "code",
   "execution_count": null,
   "metadata": {},
   "outputs": [],
   "source": [
    "def compute_grad_mod_ori(I):\n",
    "    Ix, Iy = compute_grad(I)\n",
    "    Gm = np.sqrt(Ix*Ix + Iy*Iy)\n",
    "    Go = compute_grad_ori(Ix, Iy, Gm, b=8)\n",
    "    return Gm, Go"
   ]
  },
  {
   "cell_type": "code",
   "execution_count": null,
   "metadata": {},
   "outputs": [],
   "source": [
    "Gm, Go = compute_grad_mod_ori(I)\n",
    "plt.imshow(Gm)\n",
    "plt.colorbar()\n",
    "plt.show()\n",
    "plt.imshow(Go)\n",
    "plt.colorbar()\n",
    "plt.show()"
   ]
  },
  {
   "cell_type": "code",
   "execution_count": null,
   "metadata": {},
   "outputs": [],
   "source": [
    "def compute_sift_region(Gm, Go, mask=None):\n",
    "    # TODO\n",
    "    sift = []\n",
    "    # Note: to apply the mask only when given, do:\n",
    "    if mask is not None:\n",
    "        Gm = Gm*mask\n",
    "    for i in range(16):\n",
    "        subregion_gm = Gm[4*(i//4):4*(i//4)+4, 4*(i%4):4*(i%4)+4]\n",
    "        subregion_go = Go[4*(i//4):4*(i//4)+4, 4*(i%4):4*(i%4)+4]\n",
    "        histo = [0]*8\n",
    "        for j in range(16):\n",
    "            orientation = subregion_go[j//4, j%4]\n",
    "            histo[orientation] += subregion_gm[j//4, j%4]\n",
    "        sift.extend(histo)\n",
    "    # éventuellement, utiliser linalg norm\n",
    "    sift = np.array(sift)\n",
    "    n = np.sqrt(np.sum(sift**2))\n",
    "    if n < 0.5:\n",
    "        sift = [0]*128\n",
    "        return sift\n",
    "    else:\n",
    "        sift = sift/n\n",
    "        sift[sift > 0.2] = 0.2\n",
    "        sift = sift / np.sqrt(np.sum(sift**2))\n",
    "    return sift"
   ]
  },
  {
   "cell_type": "code",
   "execution_count": null,
   "metadata": {},
   "outputs": [],
   "source": [
    "# Example of viz of SIFTs\n",
    "# set gausm to True to apply mask weighting of gradients\n",
    "display_sift_region(I,           compute_grad_mod_ori, compute_sift_region, x=200, y=78, gausm=False)\n",
    "display_sift_region(marche_im(), compute_grad_mod_ori, compute_sift_region, x=100, y=125, gausm=False)\n",
    "display_sift_region(marche_im(), compute_grad_mod_ori, compute_sift_region, x=100, y=125, gausm=False)\n",
    "display_sift_region(marche_im(), compute_grad_mod_ori, compute_sift_region, x=125, y=100, gausm=False)\n",
    "display_sift_region(marche_im(), compute_grad_mod_ori, compute_sift_region, x=121, y=121, gausm=False)\n",
    "display_sift_region(toy_im(),    compute_grad_mod_ori, compute_sift_region, x=95, y=95, gausm=False)"
   ]
  },
  {
   "cell_type": "code",
   "execution_count": null,
   "metadata": {},
   "outputs": [],
   "source": [
    "def compute_sift_image(I):\n",
    "    x, y = dense_sampling(I)\n",
    "    im = auto_padding(I)\n",
    "    \n",
    "    # TODO calculs communs aux patchs\n",
    "    Gm, Go = compute_grad_mod_ori(im)\n",
    "\n",
    "    sifts = np.zeros([len(x), len(y), 128])\n",
    "    for i, xi in enumerate(x):\n",
    "        for j, yj in enumerate(y):\n",
    "            #print(xi,yj)\n",
    "            #print(Gm[xi:xi+16, yj:yj+16])\n",
    "            sifts[i, j, :] = compute_sift_region(Gm[xi:xi+16, yj:yj+16], Go[xi:xi+16, yj:yj+16], mask=None)\n",
    "    return sifts"
   ]
  },
  {
   "cell_type": "code",
   "execution_count": null,
   "metadata": {},
   "outputs": [],
   "source": [
    "compute_sift_image(I)"
   ]
  },
  {
   "cell_type": "markdown",
   "metadata": {},
   "source": [
    "# Partie 2 : Dictionnaire visuel"
   ]
  },
  {
   "cell_type": "code",
   "execution_count": null,
   "metadata": {},
   "outputs": [],
   "source": [
    "# Ideally, restart the Python kernel to start from a clean slate\n",
    "import os\n",
    "import numpy as np\n",
    "from tools import *\n",
    "from sift import *\n",
    "from sklearn.cluster import KMeans"
   ]
  },
  {
   "cell_type": "code",
   "execution_count": null,
   "metadata": {},
   "outputs": [],
   "source": [
    "# Paths config\n",
    "dir_sc = os.path.join('data', 'Scene')\n",
    "dir_sift = os.path.join('data', 'sift')\n",
    "path_vdict = os.path.join('data', 'kmeans', 'vdict.npy')\n",
    "path_vdsift = os.path.join('data', 'kmeans', 'vdsift.npy')\n",
    "path_vdinames = os.path.join('data', 'kmeans', 'vdinames.npy')\n",
    "\n",
    "inames, ilabls, cnames = load_dataset(dir_sc)"
   ]
  },
  {
   "cell_type": "code",
   "execution_count": null,
   "metadata": {},
   "outputs": [],
   "source": [
    "# If you want to look at the SIFTs that will be fed to compute_visual_dict:\n",
    "sifts_list_by_image = compute_load_sift_dataset(dir_sc, dir_sift, inames, compute_sift_image)"
   ]
  },
  {
   "cell_type": "code",
   "execution_count": null,
   "metadata": {},
   "outputs": [],
   "source": [
    "# Code here the `compute_visual_dict` function\n",
    "def compute_visual_dict(sift, n_clusters=1000, n_init=1, verbose=1):\n",
    "    # reorder data\n",
    "    dim_sift = sift[0].shape[-1]\n",
    "    sift = [s.reshape(-1, dim_sift) for s in sift]\n",
    "    sift = np.concatenate(sift, axis=0)\n",
    "    # remove zero vectors\n",
    "    keep = ~np.all(sift==0, axis=1)\n",
    "    sift = sift[keep]\n",
    "    # randomly pick sift\n",
    "    ids, _ = compute_split(sift.shape[0], pc=0.05)\n",
    "    sift = sift[ids]\n",
    "    #sift = sift/255\n",
    "    \n",
    "    kmeans = KMeans(n_clusters=n_clusters, n_init=n_init, verbose=verbose, n_jobs=-1).fit(sift)\n",
    "    cc = kmeans.cluster_centers_\n",
    "    n = 128\n",
    "    return np.append(cc, np.zeros(n).reshape(1,n), axis=0)\n",
    "    # TODO compute kmeans on `sift`, get cluster centers, add zeros vector"
   ]
  },
  {
   "cell_type": "code",
   "execution_count": null,
   "metadata": {},
   "outputs": [],
   "source": [
    "# Run the visual dict computation (saved the first time)\n",
    "vdict = compute_or_load_vdict(dir_sc, dir_sift, inames, compute_sift_image, path_vdict, compute_visual_dict)"
   ]
  },
  {
   "cell_type": "code",
   "execution_count": null,
   "metadata": {},
   "outputs": [],
   "source": [
    "def closest_n_sift(sift, sifts, n):\n",
    "    dist_2 = np.sum((sifts - sift)**2, axis=1)\n",
    "    return np.argpartition(dist_2, n)[:n] #???"
   ]
  },
  {
   "cell_type": "code",
   "execution_count": null,
   "metadata": {},
   "outputs": [],
   "source": [
    "# Study of the dict\n",
    "regions, sifts = get_regions_and_sifts(dir_sc, np.random.choice(inames, 30)) # Compute SIFT and regions from 30 random images\n",
    "#display_images(regions[np.random.choice(len(regions), 100)]) # Show 100 random regions\n",
    "\n",
    "# TODO visually analyze the dict through similar example regions\n",
    "#\n",
    "# Ideally, create `vdregions`, a numpy array of size 1001 x 16 x 16 where each of the 1001 elements is a\n",
    "# \"prototype\" patch that is very close to the cluster center\n",
    "#vdregions = \n",
    "\n",
    "vdregions = np.empty((1001, 16, 16))\n",
    "\n",
    "for i, c in enumerate(vdict):\n",
    "    dist_2 = np.sum((sifts - c)**2, axis=1)\n",
    "    vdregions[i] = regions[np.argmin(dist_2)]\n",
    "    \n",
    "display_images(vdregions)"
   ]
  },
  {
   "cell_type": "code",
   "execution_count": null,
   "metadata": {},
   "outputs": [],
   "source": []
  },
  {
   "cell_type": "markdown",
   "metadata": {},
   "source": [
    "# Partie 3 : BoW"
   ]
  },
  {
   "cell_type": "code",
   "execution_count": null,
   "metadata": {},
   "outputs": [],
   "source": [
    "# Compute BoW for an image\n",
    "\n",
    "def compute_feats(vdict, image_sifts):\n",
    "    # TODO compute BoW from `image_sifts`\n",
    "    # coding\n",
    "    h = np.zeros((len(image_sifts), len(vdict)))\n",
    "    for idx, sift in enumerate(image_sifts):\n",
    "        # vérifier shape 1000*128 ?\n",
    "        #hi = np.array([0]*len(vdict))\n",
    "        h[idx][np.argmin(np.sum((vdict - sift)**2, axis=1))] = 1\n",
    "\n",
    "    # pooling\n",
    "    z = h.sum(axis=0)\n",
    "    \n",
    "    \n",
    "    \n",
    "    return z"
   ]
  },
  {
   "cell_type": "code",
   "execution_count": null,
   "metadata": {},
   "outputs": [],
   "source": [
    "# Visualize your BoW on an image\n",
    "\n",
    "iname = inames[0]\n",
    "ipath = os.path.join(dir_sc, iname)\n",
    "im = read_grayscale(ipath)\n",
    "sift = compute_sift_image(im) * 255\n",
    "regions = compute_regions(im)\n",
    "feats = compute_feats(vdict, sift)\n",
    "\n",
    "display_vdregions_image(im, vdict, sift, feats, vdregions=None) # if you have vdregions, add it as input here"
   ]
  }
 ],
 "metadata": {
  "kernelspec": {
   "display_name": "Python 3",
   "language": "python",
   "name": "python3"
  },
  "language_info": {
   "codemirror_mode": {
    "name": "ipython",
    "version": 3
   },
   "file_extension": ".py",
   "mimetype": "text/x-python",
   "name": "python",
   "nbconvert_exporter": "python",
   "pygments_lexer": "ipython3",
   "version": "3.6.7"
  }
 },
 "nbformat": 4,
 "nbformat_minor": 2
}
