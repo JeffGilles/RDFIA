{
 "cells": [
  {
   "cell_type": "code",
   "execution_count": null,
   "metadata": {},
   "outputs": [],
   "source": [
    "# coding: utf-8\n",
    "%matplotlib notebook\n",
    "%load_ext autoreload\n",
    "%autoreload 2\n",
    "\n",
    "#from matplotlib import pyplot as plt\n",
    "#import pandas as pd\n",
    "#import numpy as np\n",
    "#from torch import nn\n",
    "#from torch.nn import Linear, MSELoss, CrossEntropyLoss, HingeEmbeddingLoss, Tanh, Softmax, Sigmoid#, ReLU\n",
    "#from torch.optim import SGD, Adam, Adadelta, Adamax\n",
    "\n",
    "from circlesV1 import *\n",
    "from tme5 import CirclesData"
   ]
  },
  {
   "cell_type": "code",
   "execution_count": null,
   "metadata": {},
   "outputs": [],
   "source": [
    "data = CirclesData()\n",
    "data.plot_data()\n",
    "N = data.Xtrain.shape[0]\n",
    "Nbatch = 10\n",
    "nx = data.Xtrain.shape[1]\n",
    "nh = 10\n",
    "ny = data.Ytrain.shape[1]                                   "
   ]
  },
  {
   "cell_type": "code",
   "execution_count": null,
   "metadata": {},
   "outputs": [],
   "source": [
    "params = init_params(nx, nh, ny)\n",
    "eta = 0.05"
   ]
  },
  {
   "cell_type": "code",
   "execution_count": null,
   "metadata": {},
   "outputs": [],
   "source": [
    "for i in range(100):\n",
    "    Yhat, outs = forward(params, data.Xtrain)\n",
    "    #print(torch.max(Yhat,1)[1])\n",
    "    L, acc = loss_accuracy(Yhat, data.Ytrain)\n",
    "    print(acc)\n",
    "    grads = backward(params, outputs=outs, Y=data.Ytrain)\n",
    "    params = sgd(params,grads, eta)\n",
    "    #print(params)"
   ]
  },
  {
   "cell_type": "code",
   "execution_count": null,
   "metadata": {},
   "outputs": [],
   "source": []
  }
 ],
 "metadata": {
  "kernelspec": {
   "display_name": "Python 3",
   "language": "python",
   "name": "python3"
  },
  "language_info": {
   "codemirror_mode": {
    "name": "ipython",
    "version": 3
   },
   "file_extension": ".py",
   "mimetype": "text/x-python",
   "name": "python",
   "nbconvert_exporter": "python",
   "pygments_lexer": "ipython3",
   "version": "3.6.5"
  }
 },
 "nbformat": 4,
 "nbformat_minor": 2
}
